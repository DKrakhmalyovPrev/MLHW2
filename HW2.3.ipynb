{
 "cells": [
  {
   "cell_type": "code",
   "execution_count": 63,
   "metadata": {
    "collapsed": false
   },
   "outputs": [],
   "source": [
    "import numpy\n",
    "from sklearn.datasets import load_boston\n",
    "from sklearn.tree import DecisionTreeRegressor as decision_tree_regressor\n",
    "from sklearn.model_selection import train_test_split\n",
    "from sklearn.metrics import mean_squared_error"
   ]
  },
  {
   "cell_type": "code",
   "execution_count": 66,
   "metadata": {
    "collapsed": false
   },
   "outputs": [],
   "source": [
    "class Vertex(object):\n",
    "    def __init__(self, features, target):\n",
    "        self.features = features\n",
    "        self.target = target\n",
    "        self.data = np.column_stack((features, target))\n",
    "        self.left = None\n",
    "        self.right = None\n",
    "        self.value = None\n",
    "        self.feature = 1\n",
    "        self.threshold = 1\n",
    "\n",
    "    def set_left(self, left):\n",
    "        self.left = left\n",
    "\n",
    "    def set_right(self, right):\n",
    "        self.right = right\n",
    "\n",
    "    def set_threshold(self, threshold):\n",
    "        self.threshold = threshold\n",
    "\n",
    "    def set_feature(self, feature):\n",
    "        self.feature = feature\n",
    "\n",
    "    def split(self):\n",
    "        def H(data):\n",
    "            return np.std(data[:, -1])\n",
    "        max_L = self.data\n",
    "        max_R = self.data\n",
    "        for feature in range(0, self.data.shape[1] - 1, 1):\n",
    "            left = self.features[0, feature]\n",
    "            G = 10000\n",
    "            for threshold in np.sort(self.features[:, feature]):\n",
    "                right = threshold\n",
    "                if left != right:\n",
    "                    current_threshold = (left + right) / 2\n",
    "                    left = threshold\n",
    "                else:\n",
    "                    current_threshold = left\n",
    "                L = self.data[self.data[:, feature] <= current_threshold]\n",
    "                R = self.data[self.data[:, feature] > current_threshold]\n",
    "                new_G = (float(L.shape[0]) / float(self.data.shape[0])) * H(L)\\\n",
    "                        + (float(R.shape[0]) / float(self.data.shape[0])) * H(R)\n",
    "                if new_G < G:\n",
    "                    G = new_G\n",
    "                    self.set_feature(feature)\n",
    "                    self.set_threshold(current_threshold)\n",
    "                    max_L = L\n",
    "                    max_R = R\n",
    "        #print max_L.shape, self.threshold\n",
    "        return max_L, max_R\n",
    "\n",
    "    def calc_value(self):\n",
    "        self.value = self.target.mean()"
   ]
  },
  {
   "cell_type": "code",
   "execution_count": 67,
   "metadata": {
    "collapsed": true
   },
   "outputs": [],
   "source": [
    "class DecisionTree(object):\n",
    "    def __init__(self, max_depth):\n",
    "        self.max_depth = max_depth\n",
    "\n",
    "    def fit(self, data, target):\n",
    "        def create_vertex(vertex_features, vertex_target, current_depth):\n",
    "            vertex = Vertex(vertex_features, vertex_target)\n",
    "            vertex.calc_value()\n",
    "            if current_depth == 0:\n",
    "                #print vertex.value\n",
    "                return vertex\n",
    "            else:\n",
    "                left_data, right_data = vertex.split()\n",
    "                #print left_data[:, -1].shape\n",
    "                vertex.set_left(create_vertex(left_data[:, :-1], left_data[:, -1], current_depth - 1))\n",
    "                vertex.set_right(create_vertex(right_data[:, :-1], right_data[:, -1], current_depth - 1))\n",
    "            return vertex\n",
    "        self.top = create_vertex(data, target, self.max_depth)\n",
    "        #print self.top.left.value\n",
    "\n",
    "    def predict(self, X):\n",
    "        a = []\n",
    "        for i in range(0, X.shape[0], 1):\n",
    "            a.append(self._predict_for_one(X[i]))\n",
    "        return a\n",
    "\n",
    "    def _predict_for_one(self, sample):\n",
    "        def predict_sample(sample, vertex):\n",
    "            def next_vertex(sample, vertex):\n",
    "                if sample[vertex.feature] <= vertex.threshold:\n",
    "                    return vertex.left\n",
    "                else:\n",
    "                    return vertex.right\n",
    "\n",
    "            if vertex.left is None or vertex.right is None:\n",
    "                return vertex.value\n",
    "            else:\n",
    "                return predict_sample(sample, next_vertex(sample, vertex))\n",
    "        current_vertex = self.top\n",
    "        return predict_sample(sample, current_vertex)"
   ]
  },
  {
   "cell_type": "code",
   "execution_count": 68,
   "metadata": {
    "collapsed": false
   },
   "outputs": [],
   "source": [
    "data = load_boston()"
   ]
  },
  {
   "cell_type": "code",
   "execution_count": 69,
   "metadata": {
    "collapsed": false
   },
   "outputs": [
    {
     "ename": "NameError",
     "evalue": "global name 'indexable' is not defined",
     "output_type": "error",
     "traceback": [
      "\u001b[1;31m---------------------------------------------------------------------------\u001b[0m",
      "\u001b[1;31mNameError\u001b[0m                                 Traceback (most recent call last)",
      "\u001b[1;32m<ipython-input-69-f10c53918cc4>\u001b[0m in \u001b[0;36m<module>\u001b[1;34m()\u001b[0m\n\u001b[0;32m      1\u001b[0m train_data, test_data, train_target, test_target = train_test_split(\n\u001b[1;32m----> 2\u001b[1;33m     data['data'], data['target'], test_size=0.3, random_state=1)\n\u001b[0m",
      "\u001b[1;32m<ipython-input-65-fd321ba71207>\u001b[0m in \u001b[0;36mtrain_test_split\u001b[1;34m(*arrays, **options)\u001b[0m\n\u001b[0;32m     77\u001b[0m         \u001b[0mtest_size\u001b[0m \u001b[1;33m=\u001b[0m \u001b[1;36m0.25\u001b[0m\u001b[1;33m\u001b[0m\u001b[0m\n\u001b[0;32m     78\u001b[0m \u001b[1;33m\u001b[0m\u001b[0m\n\u001b[1;32m---> 79\u001b[1;33m     \u001b[0marrays\u001b[0m \u001b[1;33m=\u001b[0m \u001b[0mindexable\u001b[0m\u001b[1;33m(\u001b[0m\u001b[1;33m*\u001b[0m\u001b[0marrays\u001b[0m\u001b[1;33m)\u001b[0m\u001b[1;33m\u001b[0m\u001b[0m\n\u001b[0m\u001b[0;32m     80\u001b[0m \u001b[1;33m\u001b[0m\u001b[0m\n\u001b[0;32m     81\u001b[0m     \u001b[1;32mif\u001b[0m \u001b[0mstratify\u001b[0m \u001b[1;32mis\u001b[0m \u001b[1;32mnot\u001b[0m \u001b[0mNone\u001b[0m\u001b[1;33m:\u001b[0m\u001b[1;33m\u001b[0m\u001b[0m\n",
      "\u001b[1;31mNameError\u001b[0m: global name 'indexable' is not defined"
     ]
    }
   ],
   "source": [
    "train_data, test_data, train_target, test_target = train_test_split(\n",
    "    data['data'], data['target'], test_size=0.3, random_state=1)"
   ]
  },
  {
   "cell_type": "code",
   "execution_count": 71,
   "metadata": {
    "collapsed": false
   },
   "outputs": [
    {
     "ename": "NameError",
     "evalue": "name 'train_data' is not defined",
     "output_type": "error",
     "traceback": [
      "\u001b[1;31m---------------------------------------------------------------------------\u001b[0m",
      "\u001b[1;31mNameError\u001b[0m                                 Traceback (most recent call last)",
      "\u001b[1;32m<ipython-input-71-80e7d441af43>\u001b[0m in \u001b[0;36m<module>\u001b[1;34m()\u001b[0m\n\u001b[0;32m      1\u001b[0m \u001b[0msklearn_tree\u001b[0m \u001b[1;33m=\u001b[0m \u001b[0mdecision_tree_regressor\u001b[0m\u001b[1;33m(\u001b[0m\u001b[0mmax_depth\u001b[0m\u001b[1;33m=\u001b[0m\u001b[1;36m5\u001b[0m\u001b[1;33m)\u001b[0m\u001b[1;33m\u001b[0m\u001b[0m\n\u001b[1;32m----> 2\u001b[1;33m \u001b[0msklearn_tree\u001b[0m\u001b[1;33m.\u001b[0m\u001b[0mfit\u001b[0m\u001b[1;33m(\u001b[0m\u001b[0mtrain_data\u001b[0m\u001b[1;33m,\u001b[0m \u001b[0mtrain_target\u001b[0m\u001b[1;33m)\u001b[0m\u001b[1;33m\u001b[0m\u001b[0m\n\u001b[0m\u001b[0;32m      3\u001b[0m \u001b[1;32mprint\u001b[0m \u001b[0mmean_squared_error\u001b[0m\u001b[1;33m(\u001b[0m\u001b[0msklearn_tree\u001b[0m\u001b[1;33m.\u001b[0m\u001b[0mpredict\u001b[0m\u001b[1;33m(\u001b[0m\u001b[0mtest_data\u001b[0m\u001b[1;33m)\u001b[0m\u001b[1;33m,\u001b[0m \u001b[0mtest_target\u001b[0m\u001b[1;33m)\u001b[0m\u001b[1;33m\u001b[0m\u001b[0m\n",
      "\u001b[1;31mNameError\u001b[0m: name 'train_data' is not defined"
     ]
    }
   ],
   "source": [
    "sklearn_tree = decision_tree_regressor(max_depth=5)\n",
    "sklearn_tree.fit(train_data, train_target)\n",
    "print mean_squared_error(sklearn_tree.predict(test_data), test_target)"
   ]
  },
  {
   "cell_type": "code",
   "execution_count": 73,
   "metadata": {
    "collapsed": false
   },
   "outputs": [
    {
     "ename": "NameError",
     "evalue": "name 'train_data' is not defined",
     "output_type": "error",
     "traceback": [
      "\u001b[1;31m---------------------------------------------------------------------------\u001b[0m",
      "\u001b[1;31mNameError\u001b[0m                                 Traceback (most recent call last)",
      "\u001b[1;32m<ipython-input-73-9cf2bcd55739>\u001b[0m in \u001b[0;36m<module>\u001b[1;34m()\u001b[0m\n\u001b[0;32m      1\u001b[0m \u001b[0mmy_tree\u001b[0m \u001b[1;33m=\u001b[0m \u001b[0mDecisionTree\u001b[0m\u001b[1;33m(\u001b[0m\u001b[0mmax_depth\u001b[0m\u001b[1;33m=\u001b[0m\u001b[1;36m5\u001b[0m\u001b[1;33m)\u001b[0m\u001b[1;33m\u001b[0m\u001b[0m\n\u001b[1;32m----> 2\u001b[1;33m \u001b[0mmy_tree\u001b[0m\u001b[1;33m.\u001b[0m\u001b[0mfit\u001b[0m\u001b[1;33m(\u001b[0m\u001b[0mtrain_data\u001b[0m\u001b[1;33m,\u001b[0m \u001b[0mtrain_target\u001b[0m\u001b[1;33m)\u001b[0m\u001b[1;33m\u001b[0m\u001b[0m\n\u001b[0m\u001b[0;32m      3\u001b[0m \u001b[1;32mprint\u001b[0m \u001b[0mmean_squared_error\u001b[0m\u001b[1;33m(\u001b[0m\u001b[0mmy_tree\u001b[0m\u001b[1;33m.\u001b[0m\u001b[0mpredict\u001b[0m\u001b[1;33m(\u001b[0m\u001b[0mtest_data\u001b[0m\u001b[1;33m)\u001b[0m\u001b[1;33m,\u001b[0m \u001b[0mtest_target\u001b[0m\u001b[1;33m)\u001b[0m\u001b[1;33m\u001b[0m\u001b[0m\n",
      "\u001b[1;31mNameError\u001b[0m: name 'train_data' is not defined"
     ]
    }
   ],
   "source": [
    "my_tree = DecisionTree(max_depth=5)\n",
    "my_tree.fit(train_data, train_target)\n",
    "print mean_squared_error(my_tree.predict(test_data), test_target)"
   ]
  },
  {
   "cell_type": "markdown",
   "metadata": {},
   "source": [
    "К сожалению, возникли проблемы с модулем train_test_split, поэтому невозможно разбить данные. Полагаю, реализации класса будет достаточно для какого-то неполного балла. "
   ]
  }
 ],
 "metadata": {
  "kernelspec": {
   "display_name": "Python 2",
   "language": "python",
   "name": "python2"
  },
  "language_info": {
   "codemirror_mode": {
    "name": "ipython",
    "version": 2
   },
   "file_extension": ".py",
   "mimetype": "text/x-python",
   "name": "python",
   "nbconvert_exporter": "python",
   "pygments_lexer": "ipython2",
   "version": "2.7.11"
  }
 },
 "nbformat": 4,
 "nbformat_minor": 0
}
