{
 "cells": [
  {
   "cell_type": "markdown",
   "metadata": {},
   "source": [
    "\n",
    "№1.1\n",
    "Y - реальное значение. Найдём матожидание для среднего:\n",
    "\n",
    "\n",
    "$E_1 = E(Y - \\frac{1}{n}\\sum_{i = n}^{n}y_i)^2 = EY^2 - 2EY\\cdot{E\\overline{y}} + E(\\overline{y})^2 = EY^2 - 2EY\\cdot{E\\overline{y}} + \\frac{1}{n^2}E(\\sum_{i = 1}^{n}y_i^2 + 2\\sum_{i \\ne{=} j}^{n}y_iy_j) = EY^2 - 2EY\\cdot{E\\overline{y}} + \\frac{1}{n}Ey_i^2 + \\frac{1}{n}(n - 1)(Ey_i)^2 = EY^2 - 2EY\\cdot{Ey_1} + \\frac{1}{n}Ey_1^2 + \\frac{1}{n}(n - 1)(Ey_1)^2$ , так как $Ey_1 = Ey_i \\forall i$\n",
    "\n",
    "\n",
    "Найдём матожидание для случайного элемента:\n",
    "\n",
    "\n",
    "$E_2 = E(Y - y_i)^2 = EY^2 - 2EY\\cdot{Ey_i} + Ey_i^2 = EY^2 - 2EY\\cdot{Ey_1} + Ey_1^2$\n",
    "\n",
    "$E_2 - E_1 = EY^2 - 2EY\\cdot{Ey_1} + Ey_1^2 - EY^2 + 2EY\\cdot{Ey_1} - \\frac{1}{n}Ey_1^2 - \\frac{1}{n}(n - 1)(Ey_1)^2 = Ey_1^2 - \\frac{1}{n}Ey_1^2 - \\frac{1}{n}(n - 1)(Ey_1)^2 = (1 - \\frac{1}{n})(Ey_1^2 - (Ey_1)^2) \\ge 0$\n",
    "\n",
    "\n",
    "Как мы видим, взятие среднего значения приводит к получению меньшего матожидания ошибки.\n",
    "\n",
    "\n",
    "\n",
    "\n",
    "№1.3\n",
    "\n",
    "\n",
    "Выпишем формулу энтропии многомерного нормального распределения: \n",
    "$-\\int_{R^{n}}p(x)\\ln{p(x)}dx = -\\int_{R^{n}}p(x)(\\frac{1}{2}(x - \\mu)^T(\\Sigma)^{-1}(x - \\mu) + \\ln({(2\\pi)^{n/2}\\sqrt{|\\Sigma|}}))dx = \\frac{1}{2}\\ln({(2\\pi)^{n}|\\Sigma|}) + \\frac{1}{2}\\sum_{1 \\le i,j \\le n}(\\Sigma)^{-1}E(x_i - \\mu_i)(x_j - \\mu_j) =$\n",
    "\n",
    "\n",
    "$ = \\frac{1}{2}\\ln({(2\\pi)^{n}|\\Sigma|}) + \\frac{1}{2}\\sum_{1 \\le i,j \\le n}(\\Sigma)^{-1}\\Sigma = \\frac{1}{2}\\ln({(2\\pi)^{n}|\\Sigma|}) + \\frac{n}{2} = \\frac{1}{2}\\ln({(2e\\pi)^{n}|\\Sigma|})$\n",
    "\n",
    "\n",
    "Как мы видим, выражение, данное в задаче, действительно задаёт формулу энтропии.\n"
   ]
  }
 ],
 "metadata": {
  "kernelspec": {
   "display_name": "Python 2",
   "language": "python",
   "name": "python2"
  },
  "language_info": {
   "codemirror_mode": {
    "name": "ipython",
    "version": 2
   },
   "file_extension": ".py",
   "mimetype": "text/x-python",
   "name": "python",
   "nbconvert_exporter": "python",
   "pygments_lexer": "ipython2",
   "version": "2.7.13"
  }
 },
 "nbformat": 4,
 "nbformat_minor": 0
}
